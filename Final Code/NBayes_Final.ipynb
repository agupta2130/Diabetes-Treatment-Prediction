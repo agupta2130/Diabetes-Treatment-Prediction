{
 "cells": [
  {
   "cell_type": "code",
   "execution_count": 31,
   "id": "eefcd79f-d557-4125-931f-3cbb49e142dd",
   "metadata": {},
   "outputs": [],
   "source": [
    "# Name: Michael Scoli\n",
    "import pandas as pd\n",
    "from sklearn.naive_bayes import GaussianNB\n",
    "from sklearn.model_selection import train_test_split\n",
    "from sklearn.metrics import confusion_matrix\n",
    "import numpy as np\n",
    "from matplotlib import pyplot as plt"
   ]
  },
  {
   "cell_type": "code",
   "execution_count": 32,
   "id": "b4910004-4813-4927-9ae1-689c118fbb65",
   "metadata": {},
   "outputs": [
    {
     "data": {
      "text/html": [
       "<div>\n",
       "<style scoped>\n",
       "    .dataframe tbody tr th:only-of-type {\n",
       "        vertical-align: middle;\n",
       "    }\n",
       "\n",
       "    .dataframe tbody tr th {\n",
       "        vertical-align: top;\n",
       "    }\n",
       "\n",
       "    .dataframe thead th {\n",
       "        text-align: right;\n",
       "    }\n",
       "</style>\n",
       "<table border=\"1\" class=\"dataframe\">\n",
       "  <thead>\n",
       "    <tr style=\"text-align: right;\">\n",
       "      <th></th>\n",
       "      <th>race_0</th>\n",
       "      <th>race_1</th>\n",
       "      <th>race_2</th>\n",
       "      <th>gender_0</th>\n",
       "      <th>gender_1</th>\n",
       "      <th>age</th>\n",
       "      <th>admission_type_id_0</th>\n",
       "      <th>admission_type_id_1</th>\n",
       "      <th>admission_type_id_2</th>\n",
       "      <th>admission_type_id_3</th>\n",
       "      <th>...</th>\n",
       "      <th>glipizide-metformin_1</th>\n",
       "      <th>glimepiride-pioglitazone_0</th>\n",
       "      <th>glimepiride-pioglitazone_1</th>\n",
       "      <th>metformin-pioglitazone_0</th>\n",
       "      <th>metformin-pioglitazone_1</th>\n",
       "      <th>change_0</th>\n",
       "      <th>change_1</th>\n",
       "      <th>diabetesMed_0</th>\n",
       "      <th>diabetesMed_1</th>\n",
       "      <th>readmitted</th>\n",
       "    </tr>\n",
       "  </thead>\n",
       "  <tbody>\n",
       "    <tr>\n",
       "      <th>0</th>\n",
       "      <td>0.0</td>\n",
       "      <td>0.0</td>\n",
       "      <td>1.0</td>\n",
       "      <td>0.0</td>\n",
       "      <td>1.0</td>\n",
       "      <td>0.111111</td>\n",
       "      <td>0.0</td>\n",
       "      <td>0.0</td>\n",
       "      <td>0.0</td>\n",
       "      <td>1.0</td>\n",
       "      <td>...</td>\n",
       "      <td>1.0</td>\n",
       "      <td>0.0</td>\n",
       "      <td>1.0</td>\n",
       "      <td>0.0</td>\n",
       "      <td>1.0</td>\n",
       "      <td>0.0</td>\n",
       "      <td>1.0</td>\n",
       "      <td>0.0</td>\n",
       "      <td>1.0</td>\n",
       "      <td>1</td>\n",
       "    </tr>\n",
       "    <tr>\n",
       "      <th>1</th>\n",
       "      <td>0.0</td>\n",
       "      <td>1.0</td>\n",
       "      <td>0.0</td>\n",
       "      <td>0.0</td>\n",
       "      <td>1.0</td>\n",
       "      <td>0.222222</td>\n",
       "      <td>0.0</td>\n",
       "      <td>0.0</td>\n",
       "      <td>0.0</td>\n",
       "      <td>1.0</td>\n",
       "      <td>...</td>\n",
       "      <td>1.0</td>\n",
       "      <td>0.0</td>\n",
       "      <td>1.0</td>\n",
       "      <td>0.0</td>\n",
       "      <td>1.0</td>\n",
       "      <td>1.0</td>\n",
       "      <td>0.0</td>\n",
       "      <td>0.0</td>\n",
       "      <td>1.0</td>\n",
       "      <td>0</td>\n",
       "    </tr>\n",
       "    <tr>\n",
       "      <th>2</th>\n",
       "      <td>0.0</td>\n",
       "      <td>0.0</td>\n",
       "      <td>1.0</td>\n",
       "      <td>1.0</td>\n",
       "      <td>0.0</td>\n",
       "      <td>0.333333</td>\n",
       "      <td>0.0</td>\n",
       "      <td>0.0</td>\n",
       "      <td>0.0</td>\n",
       "      <td>1.0</td>\n",
       "      <td>...</td>\n",
       "      <td>1.0</td>\n",
       "      <td>0.0</td>\n",
       "      <td>1.0</td>\n",
       "      <td>0.0</td>\n",
       "      <td>1.0</td>\n",
       "      <td>0.0</td>\n",
       "      <td>1.0</td>\n",
       "      <td>0.0</td>\n",
       "      <td>1.0</td>\n",
       "      <td>0</td>\n",
       "    </tr>\n",
       "    <tr>\n",
       "      <th>3</th>\n",
       "      <td>0.0</td>\n",
       "      <td>0.0</td>\n",
       "      <td>1.0</td>\n",
       "      <td>1.0</td>\n",
       "      <td>0.0</td>\n",
       "      <td>0.444444</td>\n",
       "      <td>0.0</td>\n",
       "      <td>0.0</td>\n",
       "      <td>0.0</td>\n",
       "      <td>1.0</td>\n",
       "      <td>...</td>\n",
       "      <td>1.0</td>\n",
       "      <td>0.0</td>\n",
       "      <td>1.0</td>\n",
       "      <td>0.0</td>\n",
       "      <td>1.0</td>\n",
       "      <td>0.0</td>\n",
       "      <td>1.0</td>\n",
       "      <td>0.0</td>\n",
       "      <td>1.0</td>\n",
       "      <td>0</td>\n",
       "    </tr>\n",
       "    <tr>\n",
       "      <th>4</th>\n",
       "      <td>0.0</td>\n",
       "      <td>0.0</td>\n",
       "      <td>1.0</td>\n",
       "      <td>1.0</td>\n",
       "      <td>0.0</td>\n",
       "      <td>0.555556</td>\n",
       "      <td>0.0</td>\n",
       "      <td>0.0</td>\n",
       "      <td>1.0</td>\n",
       "      <td>0.0</td>\n",
       "      <td>...</td>\n",
       "      <td>1.0</td>\n",
       "      <td>0.0</td>\n",
       "      <td>1.0</td>\n",
       "      <td>0.0</td>\n",
       "      <td>1.0</td>\n",
       "      <td>1.0</td>\n",
       "      <td>0.0</td>\n",
       "      <td>0.0</td>\n",
       "      <td>1.0</td>\n",
       "      <td>1</td>\n",
       "    </tr>\n",
       "  </tbody>\n",
       "</table>\n",
       "<p>5 rows × 122 columns</p>\n",
       "</div>"
      ],
      "text/plain": [
       "   race_0  race_1  race_2  gender_0  gender_1       age  admission_type_id_0  \\\n",
       "0     0.0     0.0     1.0       0.0       1.0  0.111111                  0.0   \n",
       "1     0.0     1.0     0.0       0.0       1.0  0.222222                  0.0   \n",
       "2     0.0     0.0     1.0       1.0       0.0  0.333333                  0.0   \n",
       "3     0.0     0.0     1.0       1.0       0.0  0.444444                  0.0   \n",
       "4     0.0     0.0     1.0       1.0       0.0  0.555556                  0.0   \n",
       "\n",
       "   admission_type_id_1  admission_type_id_2  admission_type_id_3  ...  \\\n",
       "0                  0.0                  0.0                  1.0  ...   \n",
       "1                  0.0                  0.0                  1.0  ...   \n",
       "2                  0.0                  0.0                  1.0  ...   \n",
       "3                  0.0                  0.0                  1.0  ...   \n",
       "4                  0.0                  1.0                  0.0  ...   \n",
       "\n",
       "   glipizide-metformin_1  glimepiride-pioglitazone_0  \\\n",
       "0                    1.0                         0.0   \n",
       "1                    1.0                         0.0   \n",
       "2                    1.0                         0.0   \n",
       "3                    1.0                         0.0   \n",
       "4                    1.0                         0.0   \n",
       "\n",
       "   glimepiride-pioglitazone_1  metformin-pioglitazone_0  \\\n",
       "0                         1.0                       0.0   \n",
       "1                         1.0                       0.0   \n",
       "2                         1.0                       0.0   \n",
       "3                         1.0                       0.0   \n",
       "4                         1.0                       0.0   \n",
       "\n",
       "   metformin-pioglitazone_1  change_0  change_1  diabetesMed_0  diabetesMed_1  \\\n",
       "0                       1.0       0.0       1.0            0.0            1.0   \n",
       "1                       1.0       1.0       0.0            0.0            1.0   \n",
       "2                       1.0       0.0       1.0            0.0            1.0   \n",
       "3                       1.0       0.0       1.0            0.0            1.0   \n",
       "4                       1.0       1.0       0.0            0.0            1.0   \n",
       "\n",
       "   readmitted  \n",
       "0           1  \n",
       "1           0  \n",
       "2           0  \n",
       "3           0  \n",
       "4           1  \n",
       "\n",
       "[5 rows x 122 columns]"
      ]
     },
     "execution_count": 32,
     "metadata": {},
     "output_type": "execute_result"
    }
   ],
   "source": [
    "# Load the data\n",
    "diabeticData = pd.read_csv(\"FinalData.csv\")\n",
    "diabeticData.head()"
   ]
  },
  {
   "cell_type": "code",
   "execution_count": 33,
   "id": "1d2841b5-d265-4f72-b656-baa31872eddd",
   "metadata": {},
   "outputs": [],
   "source": [
    "# split dataset\n",
    "X = diabeticData.iloc[:, :-1]\n",
    "y = diabeticData.iloc[:, -1]\n",
    "X_train, X_test, y_train, Y_test = train_test_split(X, y, random_state=0, test_size=0.3)"
   ]
  },
  {
   "cell_type": "code",
   "execution_count": 34,
   "id": "6b5709ad-4109-4402-b902-bdd815bfc1bf",
   "metadata": {},
   "outputs": [
    {
     "data": {
      "text/plain": [
       "GaussianNB()"
      ]
     },
     "execution_count": 34,
     "metadata": {},
     "output_type": "execute_result"
    }
   ],
   "source": [
    "model = GaussianNB()\n",
    "model.fit(X_train, y_train)"
   ]
  },
  {
   "cell_type": "code",
   "execution_count": 35,
   "id": "72881681-8f21-4de3-93af-1cbcf2cf0ed1",
   "metadata": {},
   "outputs": [
    {
     "data": {
      "text/plain": [
       "0.47790318194180037"
      ]
     },
     "execution_count": 35,
     "metadata": {},
     "output_type": "execute_result"
    }
   ],
   "source": [
    "model.score(X_test, Y_test)"
   ]
  },
  {
   "cell_type": "code",
   "execution_count": 36,
   "id": "5c91611d-79b6-4184-88d1-e5c6696172f6",
   "metadata": {},
   "outputs": [
    {
     "data": {
      "text/plain": [
       "array([1, 1, 1, ..., 1, 1, 1])"
      ]
     },
     "execution_count": 36,
     "metadata": {},
     "output_type": "execute_result"
    }
   ],
   "source": [
    "model.predict(X_test[:-1])"
   ]
  },
  {
   "cell_type": "code",
   "execution_count": 37,
   "id": "6cfda7f9-1859-464e-a5c2-edf865544fa1",
   "metadata": {},
   "outputs": [],
   "source": [
    "# model.predict_proba(X_test[:10])"
   ]
  },
  {
   "cell_type": "code",
   "execution_count": 38,
   "id": "e0241af5-afc6-4d12-8632-172375bb3603",
   "metadata": {},
   "outputs": [],
   "source": [
    "# Make prediction using the model\n",
    "Y_pred = model.predict(X_test)"
   ]
  },
  {
   "cell_type": "code",
   "execution_count": 40,
   "id": "1edcc92e-57a7-468e-9170-3077b37f53a3",
   "metadata": {},
   "outputs": [
    {
     "name": "stdout",
     "output_type": "stream",
     "text": [
      "0    15576\n",
      "1    13840\n",
      "Name: readmitted, dtype: int64\n"
     ]
    },
    {
     "data": {
      "image/png": "[encoded data removed]",
      "text/plain": [
       "<Figure size 576x576 with 1 Axes>"
      ]
     },
     "metadata": {
      "needs_background": "light"
     },
     "output_type": "display_data"
    }
   ],
   "source": [
    "#Getting confusion matrix\n",
    "tn,fp,fn,tp=confusion_matrix(Y_test,Y_pred).ravel()\n",
    "tot=tn+fp+fn+tp\n",
    "#Structure of plot\n",
    "cm=np.array(((1,0),(0,1)))\n",
    "fig,ax=plt.subplots(figsize=(8,8))\n",
    "plt.xlabel('Pred', fontsize=18)\n",
    "plt.ylabel('Test', fontsize=18)\n",
    "plt.title('Confusion Matrix', fontsize=21)\n",
    "ax.set_xticks(np.arange(2))\n",
    "ax.set_yticks(np.arange(2))\n",
    "ax.set_xticklabels(['1','0'])\n",
    "ax.set_yticklabels(['1','0'])\n",
    "ax.matshow(cm,cmap='RdYlGn',alpha=0.5)\n",
    "#Numeric vals\n",
    "ax.text(0,0,s=tp,va='center',ha='center',fontsize=18)\n",
    "ax.text(1,0,s=fp,va='center',ha='center',fontsize=18)\n",
    "ax.text(0,1,s=fn,va='center',ha='center',fontsize=18)\n",
    "ax.text(1,1,s=tn,va='center',ha='center',fontsize=18)\n",
    "#Labels\n",
    "ax.text(0,-.15,s=\"True Pos\",va='center',ha='center',fontsize=18)\n",
    "ax.text(1,-.15,s=\"False Pos\",va='center',ha='center',fontsize=18)\n",
    "ax.text(0,.85,s=\"False Neg\",va='center',ha='center',fontsize=18)\n",
    "ax.text(1,.85,s=\"True Neg\",va='center',ha='center',fontsize=18)\n",
    "#Percentages\n",
    "ax.text(0,.15,s=str(round((tp/tot)*100,2))+'%' ,va='center',ha='center',fontsize=18)\n",
    "ax.text(1,.15,s=str(round((fp/tot)*100,2))+'%' ,va='center',ha='center',fontsize=18)\n",
    "ax.text(0,1.15,s=str(round((fn/tot)*100,2))+'%' ,va='center',ha='center',fontsize=18)\n",
    "ax.text(1,1.15,s=str(round((tn/tot)*100,2))+'%' ,va='center',ha='center',fontsize=18)\n",
    "#Result overview\n",
    "acc=(tp+tn)/(tp+tn+fp+fn)\n",
    "pre=(tp)/(tp+fp)\n",
    "rec=(tp)/(tp+fn)\n",
    "ax.text(1.6,-.2,\"Accuracy: \"+str(round((acc)*100 ,4))+'%',fontsize=20)\n",
    "ax.text(1.6,0,\"Precision: \"+str(round((pre)*100 ,4))+'%',fontsize=20)\n",
    "ax.text(1.6,.2,\"Recall: \"+str(round((rec)*100 ,4))+'%',fontsize=20)\n",
    "ax.text(1.6,.4,\"F1: \"+str(round(( 2*((pre*rec)/(pre+rec)) )*100 ,4))+'%',fontsize=20)\n",
    "c=Y_test.value_counts()\n",
    "print(c)\n",
    "t1=c[1]\n",
    "t0=c[0]\n",
    "ax.text(1.6,.8,\"Test composition:\",fontsize=20)\n",
    "ax.text(1.6,1,\"1s: \"+str(t1)+\" \"+str(round((t1/(t1+t0))*100 ,2))+'%',fontsize=20)\n",
    "ax.text(1.6,1.2,\"0s: \"+str(t0)+\" \"+str(round((t0/(t1+t0))*100 ,2))+'%',fontsize=20)\n",
    "del acc,ax,cm,fig,fn,fp,pre,rec,tn,tot,tp\n",
    "plt.show()"
   ]
  }
 ],
 "metadata": {
  "kernelspec": {
   "display_name": "Python 3 (ipykernel)",
   "language": "python",
   "name": "python3"
  },
  "language_info": {
   "codemirror_mode": {
    "name": "ipython",
    "version": 3
   },
   "file_extension": ".py",
   "mimetype": "text/x-python",
   "name": "python",
   "nbconvert_exporter": "python",
   "pygments_lexer": "ipython3",
   "version": "3.9.12"
  }
 },
 "nbformat": 4,
 "nbformat_minor": 5
}
